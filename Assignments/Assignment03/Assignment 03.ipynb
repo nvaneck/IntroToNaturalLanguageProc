{
 "cells": [
  {
   "cell_type": "markdown",
   "metadata": {},
   "source": [
    "# A03: Detecting Spelling Errors, Minimum Edit Distance, Human Morphology and Sentiment Analysis with Naïve Bayesian Classification "
   ]
  },
  {
   "cell_type": "markdown",
   "metadata": {},
   "source": [
    "                    By Besnik Balaj & Amanda Ly\n",
    "I plege my honor that I have abided by the Stevens Honor System \n",
    "                      -Amanda Ly & Besnik Balaj"
   ]
  },
  {
   "cell_type": "markdown",
   "metadata": {},
   "source": [
    "Deliverables: \n",
    "\n",
    "1. Respond to J&M 2nd Exercises 3.10 and 3.11.\n",
    "\n",
    "2. Find Python packages that apply Bayesian logic to classification and apply one to sentiment data. Such data can be downloaded from Amazon which collects reviews from customers, and possibly specialized rating sites for electronics, entertainment, restaurants, and other products and services. A sentiment data set using Amazon data is available with papers that report on research using it from here (Links to an external site.).\n",
    "\n",
    "3. Briefly report on SentiWordNet (Links to an external site.) and how it can be used with Python and WordNet to classify a corpus of reviews (tweets are not easy to get right since they do not use “natural” language). Do not get bogged down preparing the reviews for analysis. It is acceptable to find a research paper (Links to an external site.) or blog that reports on such use.\n",
    "\n",
    "4. Respond to the Bayesian part of BKL Exercise 6.3. Entire exercise can be a project.\n"
   ]
  },
  {
   "cell_type": "markdown",
   "metadata": {},
   "source": [
    "Where to Look:\n",
    "- J&M 2nd Edition on Chapter 3 \n",
    "- J&M 3rd Edition on Chapter 4\n",
    "- A&S Chapter 2 \n",
    "- BKL Section 6.5 "
   ]
  },
  {
   "cell_type": "code",
   "execution_count": null,
   "metadata": {},
   "outputs": [],
   "source": []
  }
 ],
 "metadata": {
  "kernelspec": {
   "display_name": "Python 3",
   "language": "python",
   "name": "python3"
  },
  "language_info": {
   "codemirror_mode": {
    "name": "ipython",
    "version": 3
   },
   "file_extension": ".py",
   "mimetype": "text/x-python",
   "name": "python",
   "nbconvert_exporter": "python",
   "pygments_lexer": "ipython3",
   "version": "3.7.3"
  }
 },
 "nbformat": 4,
 "nbformat_minor": 2
}
